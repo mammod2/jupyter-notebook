{
 "cells": [
  {
   "cell_type": "markdown",
   "id": "7411c311-237a-421d-b3f0-8bf015bcc382",
   "metadata": {},
   "source": [
    "# Data Science Tools and Ecosystem"
   ]
  },
  {
   "cell_type": "markdown",
   "id": "a442b1b5-7453-4e55-96ca-20a3003f87fe",
   "metadata": {},
   "source": [
    "### In this notebook, Data Science Tools and Ecosystem are summarized."
   ]
  },
  {
   "cell_type": "markdown",
   "id": "8111c605-7776-40ae-b822-950791c6414a",
   "metadata": {},
   "source": [
    "#### Some of the popular languages that Data Scientists use are:\n",
    "\n",
    "* Python\n",
    "* R\n",
    "* Scala\n"
   ]
  },
  {
   "cell_type": "markdown",
   "id": "f470bbc5-2294-454c-b9f8-6b3a6cf6fd4f",
   "metadata": {},
   "source": [
    "Some of the commonly used libraries used by Data Scientists include:\n",
    "\n",
    "1. Pandas  \n",
    "2. NumPy  \n",
    "3. Matplotlib  \n",
    "4. Scikit-learn  \n",
    "5. TensorFlow"
   ]
  },
  {
   "cell_type": "markdown",
   "id": "2c616d26-8aad-4b26-b38b-11aee172ba26",
   "metadata": {},
   "source": [
    "| Data Science Tools |\n",
    "|--------------------|\n",
    "| Jupyter Notebook   |\n",
    "| RStudio            |\n",
    "| Apache Zeppelin    |\n"
   ]
  },
  {
   "cell_type": "markdown",
   "id": "41e37f7f-2572-4d88-99ff-c07401d2142b",
   "metadata": {},
   "source": [
    "### Below are a few examples of evaluating arithmetic expressions in Python.\n"
   ]
  },
  {
   "cell_type": "code",
   "execution_count": 4,
   "id": "987541d1-5131-4e8f-b6ff-e858d4943562",
   "metadata": {},
   "outputs": [
    {
     "data": {
      "text/plain": [
       "17"
      ]
     },
     "execution_count": 4,
     "metadata": {},
     "output_type": "execute_result"
    }
   ],
   "source": [
    "(3 * 4) + 5\n"
   ]
  },
  {
   "cell_type": "code",
   "execution_count": 5,
   "id": "1db29423-cf20-4037-a7c3-f6b476533c59",
   "metadata": {},
   "outputs": [
    {
     "data": {
      "text/plain": [
       "3.3333333333333335"
      ]
     },
     "execution_count": 5,
     "metadata": {},
     "output_type": "execute_result"
    }
   ],
   "source": [
    "200 / 60\n"
   ]
  },
  {
   "cell_type": "markdown",
   "id": "eff88e36-2b8a-404e-8d01-a9114a877307",
   "metadata": {},
   "source": [
    "**Objectives:**\n",
    "\n",
    "- List popular languages for Data Science  \n",
    "- Identify commonly used libraries in Data Science  \n",
    "- Create and run arithmetic expressions in Python  \n",
    "- Use markdown cells to structure notebooks  \n",
    "- Share notebooks on GitHub"
   ]
  },
  {
   "cell_type": "markdown",
   "id": "d6fd9219-38d2-4485-8bcb-b985a1a1b9d0",
   "metadata": {},
   "source": [
    "## Author\n",
    "\n",
    "Mo"
   ]
  },
  {
   "cell_type": "code",
   "execution_count": null,
   "id": "88ecc2fd-619f-415c-b6d5-912a1475c2c4",
   "metadata": {},
   "outputs": [],
   "source": []
  }
 ],
 "metadata": {
  "kernelspec": {
   "display_name": "Python [conda env:base] *",
   "language": "python",
   "name": "conda-base-py"
  },
  "language_info": {
   "codemirror_mode": {
    "name": "ipython",
    "version": 3
   },
   "file_extension": ".py",
   "mimetype": "text/x-python",
   "name": "python",
   "nbconvert_exporter": "python",
   "pygments_lexer": "ipython3",
   "version": "3.12.7"
  }
 },
 "nbformat": 4,
 "nbformat_minor": 5
}
